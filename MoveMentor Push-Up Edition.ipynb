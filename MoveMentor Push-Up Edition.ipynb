{
  "nbformat": 4,
  "nbformat_minor": 0,
  "metadata": {
    "colab": {
      "provenance": []
    },
    "kernelspec": {
      "name": "python3",
      "display_name": "Python 3"
    },
    "language_info": {
      "name": "python"
    }
  },
  "cells": [
    {
      "cell_type": "code",
      "execution_count": 1,
      "metadata": {
        "colab": {
          "base_uri": "https://localhost:8080/"
        },
        "id": "f-uzUbN7x-uL",
        "outputId": "c90746ab-97fc-4c13-eea1-53b4784202ea"
      },
      "outputs": [
        {
          "output_type": "stream",
          "name": "stdout",
          "text": [
            "Requirement already satisfied: cvzone in /usr/local/lib/python3.10/dist-packages (1.6.1)\n",
            "Requirement already satisfied: opencv-python in /usr/local/lib/python3.10/dist-packages (from cvzone) (4.8.0.76)\n",
            "Requirement already satisfied: numpy in /usr/local/lib/python3.10/dist-packages (from cvzone) (1.23.5)\n",
            "Requirement already satisfied: mediapipe in /usr/local/lib/python3.10/dist-packages (0.10.9)\n",
            "Requirement already satisfied: absl-py in /usr/local/lib/python3.10/dist-packages (from mediapipe) (1.4.0)\n",
            "Requirement already satisfied: attrs>=19.1.0 in /usr/local/lib/python3.10/dist-packages (from mediapipe) (23.2.0)\n",
            "Requirement already satisfied: flatbuffers>=2.0 in /usr/local/lib/python3.10/dist-packages (from mediapipe) (23.5.26)\n",
            "Requirement already satisfied: matplotlib in /usr/local/lib/python3.10/dist-packages (from mediapipe) (3.7.1)\n",
            "Requirement already satisfied: numpy in /usr/local/lib/python3.10/dist-packages (from mediapipe) (1.23.5)\n",
            "Requirement already satisfied: opencv-contrib-python in /usr/local/lib/python3.10/dist-packages (from mediapipe) (4.8.0.76)\n",
            "Requirement already satisfied: protobuf<4,>=3.11 in /usr/local/lib/python3.10/dist-packages (from mediapipe) (3.20.3)\n",
            "Requirement already satisfied: sounddevice>=0.4.4 in /usr/local/lib/python3.10/dist-packages (from mediapipe) (0.4.6)\n",
            "Requirement already satisfied: CFFI>=1.0 in /usr/local/lib/python3.10/dist-packages (from sounddevice>=0.4.4->mediapipe) (1.16.0)\n",
            "Requirement already satisfied: contourpy>=1.0.1 in /usr/local/lib/python3.10/dist-packages (from matplotlib->mediapipe) (1.2.0)\n",
            "Requirement already satisfied: cycler>=0.10 in /usr/local/lib/python3.10/dist-packages (from matplotlib->mediapipe) (0.12.1)\n",
            "Requirement already satisfied: fonttools>=4.22.0 in /usr/local/lib/python3.10/dist-packages (from matplotlib->mediapipe) (4.47.2)\n",
            "Requirement already satisfied: kiwisolver>=1.0.1 in /usr/local/lib/python3.10/dist-packages (from matplotlib->mediapipe) (1.4.5)\n",
            "Requirement already satisfied: packaging>=20.0 in /usr/local/lib/python3.10/dist-packages (from matplotlib->mediapipe) (23.2)\n",
            "Requirement already satisfied: pillow>=6.2.0 in /usr/local/lib/python3.10/dist-packages (from matplotlib->mediapipe) (9.4.0)\n",
            "Requirement already satisfied: pyparsing>=2.3.1 in /usr/local/lib/python3.10/dist-packages (from matplotlib->mediapipe) (3.1.1)\n",
            "Requirement already satisfied: python-dateutil>=2.7 in /usr/local/lib/python3.10/dist-packages (from matplotlib->mediapipe) (2.8.2)\n",
            "Requirement already satisfied: pycparser in /usr/local/lib/python3.10/dist-packages (from CFFI>=1.0->sounddevice>=0.4.4->mediapipe) (2.21)\n",
            "Requirement already satisfied: six>=1.5 in /usr/local/lib/python3.10/dist-packages (from python-dateutil>=2.7->matplotlib->mediapipe) (1.16.0)\n"
          ]
        }
      ],
      "source": [
        "!pip install cvzone\n",
        "!pip install mediapipe"
      ]
    },
    {
      "cell_type": "code",
      "source": [
        "import cv2\n",
        "import cvzone\n",
        "from cvzone.PoseModule import PoseDetector\n",
        "import math\n",
        "import numpy as np\n",
        "\n",
        "counter = 0\n",
        "direction = 0\n",
        "\n",
        "cap = cv2.VideoCapture('vid1.mp4')\n",
        "pd = PoseDetector(trackCon=0.70, detectionCon=0.70)\n",
        "\n",
        "# Get the frames per second (fps) and total number of frames in the video\n",
        "fps = cap.get(cv2.CAP_PROP_FPS)\n",
        "total_frames = int(cap.get(cv2.CAP_PROP_FRAME_COUNT))\n",
        "\n",
        "# Define the codec and create VideoWriter object\n",
        "fourcc = cv2.VideoWriter_fourcc(*'XVID')\n",
        "out = cv2.VideoWriter('output.avi', fourcc, fps, (1000, 500))\n",
        "\n",
        "def angles(lmlist, p1, p2, p3, p4, p5, p6, drawpoints):\n",
        "    global counter\n",
        "    global direction\n",
        "\n",
        "    if len(lmlist) >= max(p1, p2, p3, p4, p5, p6):\n",
        "        point1 = lmlist[p1]\n",
        "        point2 = lmlist[p2]\n",
        "        point3 = lmlist[p3]\n",
        "        point4 = lmlist[p4]\n",
        "        point5 = lmlist[p5]\n",
        "        point6 = lmlist[p6]\n",
        "\n",
        "        if len(point1) >= 2 and len(point2) >= 2 and len(point3) >= 2 and len(point4) >= 2 and len(point5) >= 2 and len(point6) >= 2:\n",
        "            x1, y1 = point1[:2]\n",
        "            x2, y2 = point2[:2]\n",
        "            x3, y3 = point3[:2]\n",
        "            x4, y4 = point4[:2]\n",
        "            x5, y5 = point5[:2]\n",
        "            x6, y6 = point6[:2]\n",
        "\n",
        "            if drawpoints:\n",
        "                cv2.circle(img, (int(x1), int(y1)), 10, (255, 0, 255), 5)\n",
        "                # Draw other points and lines as needed...\n",
        "\n",
        "            # Calculate angles\n",
        "            lefthandangle = math.degrees(math.atan2(y3 - y2, x3 - x2) - math.atan2(y1 - y2, x1 - x2))\n",
        "            righthandangle = math.degrees(math.atan2(y6 - y5, x6 - x5) - math.atan2(y4 - y5, x4 - x5))\n",
        "\n",
        "            leftHandAngle = int(np.interp(lefthandangle, [-30, 180], [100, 0]))\n",
        "            rightHandAngle = int(np.interp(righthandangle, [34, 173], [100, 0]))\n",
        "\n",
        "            left, right = leftHandAngle, rightHandAngle\n",
        "\n",
        "            if left >= 70 and right >= 70:\n",
        "                if direction == 0:\n",
        "                    counter += 1\n",
        "                    direction = 1\n",
        "            if left <= 70 and right <= 70:\n",
        "                if direction == 1:\n",
        "                    direction = 0\n",
        "\n",
        "            # Display the push-up count\n",
        "            cv2.rectangle(img, (0, 0), (120, 120), (255, 0, 0), -1)\n",
        "            cv2.putText(img, str(int(counter)), (20, 70), cv2.FONT_HERSHEY_SCRIPT_SIMPLEX, 1.6, (0, 0, 255), 7)\n",
        "\n",
        "while cap.isOpened():\n",
        "    ret, img = cap.read()\n",
        "    if not ret:\n",
        "        break  # Break the loop when the video ends\n",
        "\n",
        "    img = cv2.resize(img, (1000, 500))\n",
        "    cvzone.putTextRect(img, 'AI Push Up Counter', [345, 30], thickness=2, border=2, scale=2.5)\n",
        "    pd.findPose(img, draw=0)\n",
        "    lmlist, bbox = pd.findPosition(img, draw=0, bboxWithHands=0)\n",
        "\n",
        "    angles(lmlist, 11, 13, 15, 12, 14, 16, drawpoints=1)\n",
        "\n",
        "    # Write the frame to the output video\n",
        "    out.write(img)\n",
        "\n",
        "    # Break the loop if 'q' is pressed\n",
        "    if cv2.waitKey(1) & 0xFF == ord('q'):\n",
        "        break\n",
        "\n",
        "# Release everything when done\n",
        "cap.release()\n",
        "out.release()\n",
        "cv2.destroyAllWindows()\n"
      ],
      "metadata": {
        "id": "AvT-T0UOaJG_"
      },
      "execution_count": 7,
      "outputs": []
    },
    {
      "cell_type": "code",
      "source": [],
      "metadata": {
        "id": "ipIpY9hfabbS"
      },
      "execution_count": null,
      "outputs": []
    }
  ]
}